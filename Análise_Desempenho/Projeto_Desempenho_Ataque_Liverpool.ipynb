{
  "nbformat": 4,
  "nbformat_minor": 0,
  "metadata": {
    "colab": {
      "name": "Projeto_Desempenho_Ataque_Liverpool.ipynb",
      "provenance": [],
      "collapsed_sections": []
    },
    "kernelspec": {
      "name": "python3",
      "display_name": "Python 3"
    },
    "language_info": {
      "name": "python"
    }
  },
  "cells": [
    {
      "cell_type": "code",
      "metadata": {
        "id": "8cumeQuSsYik"
      },
      "source": [
        "import numpy as np\n",
        "import pandas as pd\n",
        "import matplotlib.pyplot as plt"
      ],
      "execution_count": null,
      "outputs": []
    },
    {
      "cell_type": "code",
      "metadata": {
        "id": "dMP3Xk83g86X"
      },
      "source": [
        "def retiraValor(nome):\n",
        "  lista_split = nome.split(\" \")\n",
        "  valor = lista_split[-1]\n",
        "  nome = lista_split[0]\n",
        "  try:\n",
        "    for i in lista_split[1:-1]:\n",
        "      nome += \" \" + i\n",
        "  except:\n",
        "    None\n",
        "  return nome, valor"
      ],
      "execution_count": null,
      "outputs": []
    },
    {
      "cell_type": "code",
      "metadata": {
        "id": "oeWUkm2ig9V3"
      },
      "source": [
        "lista = '''Season \n",
        "Appearances \n",
        "Goals \n",
        "Goals per match \n",
        "Shots on target \n",
        "Hit woodwork \n",
        "\n",
        "Assists \n",
        "Passes per match \n",
        "Big Chances Created \n",
        "Big chances missed \n",
        "\n",
        "Yellow cards \n",
        "Red cards \n",
        "Fouls \n",
        "Offsides \n",
        "\n",
        "Tackles \n",
        "Blocked shots \n",
        "Interceptions \n",
        "Clearances '''.split(\"\\n\")"
      ],
      "execution_count": null,
      "outputs": []
    },
    {
      "cell_type": "code",
      "metadata": {
        "id": "iNLPN9oMhWZk"
      },
      "source": [
        "# dadosAux = pd.DataFrame([retiraValor(item) for item in lista], columns=[\"Player\", \"Mohamed Salah\"]).set_index(\"Player\").transpose()"
      ],
      "execution_count": null,
      "outputs": []
    },
    {
      "cell_type": "code",
      "metadata": {
        "id": "dOQI3ND5wn6k"
      },
      "source": [
        "dados = pd.read_csv(\"Dados_Liverpool.csv\")"
      ],
      "execution_count": null,
      "outputs": []
    },
    {
      "cell_type": "code",
      "metadata": {
        "id": "w9bM12U4AmKb"
      },
      "source": [
        "resultado = dados[[\"Player\", \"Season\"]]"
      ],
      "execution_count": null,
      "outputs": []
    },
    {
      "cell_type": "code",
      "metadata": {
        "id": "TlRfHo-yJSLj"
      },
      "source": [
        "for col in [\"Indicador_Attack\", \"Indicador_TeamPlay\", \"Indicador_Discipline\", \"Indicador_Defence\", \"Indicador_Geral\"]:\n",
        "  resultado[col] = 0"
      ],
      "execution_count": null,
      "outputs": []
    },
    {
      "cell_type": "code",
      "metadata": {
        "id": "YbwQm-N9JgO4"
      },
      "source": [
        "for temporada in [\"18/19\", \"19/20\", \"20/21\"]:\n",
        "  dadosTemporada = dados[dados[\"Season\"] == temporada]\n",
        "\n",
        "  for col in dadosTemporada.columns[2:]:\n",
        "    dadosTemporada[col] = dadosTemporada[col] / dadosTemporada[col].max()\n",
        "\n",
        "  dadosTemporada = dadosTemporada.fillna(0)\n",
        "\n",
        "  dadosTemporada[\"Indicador_Attack\"] = 0.1 * dadosTemporada[\"Appearances\"] + 0.3 * dadosTemporada[\"Goals\"] + 0.3 * dadosTemporada[\"Goals per match\"] + 0.2 * dadosTemporada[\"Shots on target\"] + 0.1 * dadosTemporada[\"Hit woodwork\"]\n",
        "  dadosTemporada[\"Indicador_TeamPlay\"] = 0.4 * dadosTemporada[\"Assists\"] + 0.2 * dadosTemporada[\"Passes per match\"] + 0.4 * dadosTemporada[\"Big Chances Created\"] - 0.1 * dadosTemporada[\"Big chances missed\"]\n",
        "  dadosTemporada[\"Indicador_Discipline\"] = 1 - 0.2 * dadosTemporada[\"Yellow cards\"] - 0.5 * dadosTemporada[\"Red cards\"] - 0.15 * dadosTemporada[\"Fouls\"] - 0.15 * dadosTemporada[\"Offsides\"]\n",
        "  dadosTemporada[\"Indicador_Defence\"] = 0.2 * dadosTemporada[\"Tackles\"] + 0.3 * dadosTemporada[\"Blocked shots\"] + 0.25 * dadosTemporada[\"Interceptions\"] + 0.25 * dadosTemporada[\"Clearances\"]\n",
        "\n",
        "  for col in [\"Indicador_Attack\", \"Indicador_TeamPlay\", \"Indicador_Discipline\", \"Indicador_Defence\"]:\n",
        "    dadosTemporada[col] = dadosTemporada[col] / dadosTemporada[col].max()\n",
        "\n",
        "  dadosTemporada[\"Indicador_Geral\"] = 0.4 * dadosTemporada[\"Indicador_Attack\"] + 0.2 * dadosTemporada[\"Indicador_TeamPlay\"] + 0.2 * dadosTemporada[\"Indicador_Discipline\"] + 0.2 * dadosTemporada[\"Indicador_Defence\"]\n",
        "  \n",
        "  for _, row in dadosTemporada.iterrows():\n",
        "    for col in [\"Indicador_Attack\", \"Indicador_TeamPlay\", \"Indicador_Discipline\", \"Indicador_Defence\", \"Indicador_Geral\"]:\n",
        "      resultado.loc[(resultado[\"Player\"] == row[\"Player\"]).values & (resultado[\"Season\"] == row[\"Season\"]).values, col] = row[col]"
      ],
      "execution_count": null,
      "outputs": []
    },
    {
      "cell_type": "code",
      "metadata": {
        "id": "J538Km13KXtY"
      },
      "source": [
        "resultado.to_csv(\"Analise_Liverpool.csv\", index=False)"
      ],
      "execution_count": null,
      "outputs": []
    },
    {
      "cell_type": "markdown",
      "metadata": {
        "id": "ZPzeMRC4S9ws"
      },
      "source": [
        "# Attack:\n",
        "Goals\n",
        "Goals per match\n",
        "\n",
        "Não importa como o gol foi feito: se de cabeça, de pênalti, de falta nem com qual das pernas.\n",
        "\n",
        "Número de chutes não é relevante, apenas os chutes no alvo. Como o total de chutes está sendo desconsiderado, a acurácia também está sendo eliminada.\n",
        "\n",
        "Big Chances Missed foi alocado para Team Play\n",
        "\n",
        "#Team Play\n",
        "Foi desconsiderado o número de passes, privilegiando o número de passes por partida\n",
        "\n",
        "Número de cruzamentos também foi desconsiderado\n",
        "\n",
        "\n"
      ]
    }
  ]
}